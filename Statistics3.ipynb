{
 "cells": [
  {
   "cell_type": "markdown",
   "metadata": {},
   "source": [
    "# Statistics 3"
   ]
  },
  {
   "cell_type": "markdown",
   "metadata": {},
   "source": [
    "***"
   ]
  },
  {
   "cell_type": "markdown",
   "metadata": {},
   "source": [
    "## Problem Statement 1:\n",
    "### Blood glucose levels for obese patients have a mean of 100 with a standard deviation of  15. A researcher thinks that a diet high in raw cornstarch will have a positive effect on blood glucose levels. A sample of 36 patients who have tried the raw cornstarch diet have a mean glucose level of 108. Test the hypothesis that the raw cornstarch had an effect or not. \n",
    " \n",
    " "
   ]
  },
  {
   "cell_type": "markdown",
   "metadata": {},
   "source": [
    "# z=(X-μ)/σ"
   ]
  },
  {
   "cell_type": "code",
   "execution_count": 1,
   "metadata": {},
   "outputs": [
    {
     "name": "stdout",
     "output_type": "stream",
     "text": [
      "𝜇= 100\tX̄= 108\t𝜎 =  2.5\n",
      "z=  3.2\n",
      "p-value associated with 3.20 is  0.9993128620620841\n"
     ]
    }
   ],
   "source": [
    "import numpy as np\n",
    "from scipy import stats\n",
    "def Zscore(x, mean, stdev):\n",
    "    return (x - mean)/stdev\n",
    "\n",
    "\n",
    "x = 108\n",
    "mean = 100\n",
    "stdev = 15/np.sqrt(36)\n",
    "\n",
    "z = Zscore(x, mean, stdev)\n",
    "print(\"𝜇= \"+str(mean)+\"\\tX̄= \"+str(x)+ \"\\t𝜎 =  \"+str(stdev))\n",
    "print(\"z= \",z)\n",
    "p= stats.norm.cdf(z)\n",
    "print(\"p-value associated with 3.20 is \",p)"
   ]
  },
  {
   "cell_type": "markdown",
   "metadata": {},
   "source": [
    "#### Performing Hypothesis Testing\n",
    "Step1:Develop a Hypothesis \n",
    "            The population mean is 100.\n",
    "    \n",
    "H0: μ = 100\n",
    "H1: μ ≠ 100\n",
    "    \n",
    "Step2:  State significance level:  \n",
    "        Significance level (α). It is not given in the problem and hence taking it as 5% (0.05).    \n",
    "    α=0.05\n",
    "    \n",
    "Step3: Identify Test Statistic: \n",
    "    𝜇=100\n",
    "    𝜎 = 15\n",
    "    X̄=108\n",
    "    n=36\n",
    "    \n",
    "    \n",
    " z= (108-100) / (15/√36)=3.20\n",
    " \n",
    "Step4: Determine P-value:\n",
    "         The probability by looking at z- table and p-value associated with 3.20 is 0.9993. \n",
    "            Probability of having p-value less than 108 is 0.9993 and more than or equals to 108 is (1-0.9993)=0.0007.\n",
    "\n",
    "\n",
    "Step5: Compare P-value to Significance level:\n",
    "        0.0007<0.05.\n",
    "        Hence  Reject H0,i.e. there is raw cornstarch effect."
   ]
  },
  {
   "cell_type": "markdown",
   "metadata": {},
   "source": [
    "***"
   ]
  },
  {
   "cell_type": "markdown",
   "metadata": {},
   "source": [
    "## Problem Statement 2:\n",
    "\n",
    "### In one state, 52% of the voters are Republicans, and 48% are Democrats. In a second state, 47% of the voters are Republicans, and 53% are Democrats. Suppose a simple random sample of 100 voters are surveyed from each state. What is the probability that the survey will show a greater percentage of Republican voters in the second state than in the first state?"
   ]
  },
  {
   "cell_type": "code",
   "execution_count": 2,
   "metadata": {},
   "outputs": [
    {
     "name": "stdout",
     "output_type": "stream",
     "text": [
      "zscore = 0.707, pvalue = 0.240\n",
      "The probability that the survey will show a greater percentage of Republican voters in the second state than in the first state is 0.24.\n"
     ]
    }
   ],
   "source": [
    "import numpy as np\n",
    "from statsmodels.stats.proportion import proportions_ztest\n",
    "counts = np.array([52,47])\n",
    "nobs = np.array([100, 100])\n",
    "\n",
    "zscore, pvalue = proportions_ztest(counts, nobs, alternative = 'larger')\n",
    "print('zscore = {:.3f}, pvalue = {:.3f}'.format(zscore, pvalue))\n",
    "print(\"The probability that the survey will show a greater percentage of Republican voters in the second state than in the first state is 0.24.\")"
   ]
  },
  {
   "cell_type": "markdown",
   "metadata": {},
   "source": [
    "####  Alternative method\n",
    "n1P1 = 100 * 0.52 = 52,\n",
    "\n",
    "n1(1 - P1) = 100 * 0.48 = 48,\n",
    "\n",
    "n2P2 = 100 * 0.47 = 47\n",
    "\n",
    "n2(1 - P2) = 100 * 0.53 = 53 are each greater than 10, the sample size is large enough.\n",
    "\n",
    " \n",
    "Finding the mean of the difference in sample proportions:\n",
    "\n",
    "E(p1 - p2) = P1 - P2 = 0.52 - 0.47 = 0.05.\n",
    " \n",
    "\n",
    "Find the standard deviation of the difference.\n",
    "\n",
    "σd =  sqrt{ [ P1(1 - P1) / n1 ] + [ P2(1 - P2) / n2 ] } \n",
    "\n",
    "σd = sqrt{ [ (0.52)(0.48) / 100 ] + [ (0.47)(0.53) / 100 ] } \n",
    "\n",
    "σd = sqrt (0.002496 + 0.002491) = sqrt(0.004987) = 0.0706\n",
    "\n",
    "Finding the probability--\n",
    "\n",
    "This problem requires us to find the probability that p1 is less than p2. \n",
    "This is equivalent to finding the probability that p1 - p2 is less than zero. \n",
    "\n",
    "To find this probability, we need to transform the random variable (p1 - p2) into a z-score. \n",
    "\n",
    "z = (x - μ  ) / σd = = (0 - 0.05)/0.0706 = -0.7082\n",
    "z-score being -0.7082 or less is 0.24.\n",
    "\n",
    "\n",
    "Therefore, the probability that the survey will show a greater percentage of Republican voters in the second state than in the first state is 0.24."
   ]
  },
  {
   "cell_type": "markdown",
   "metadata": {},
   "source": [
    "## Problem Statement 3:\n",
    "### You take the SAT and score 1100. The mean score for the SAT is 1026 and the standard deviation is 209. How well did you score on the test compared to the average test taker?"
   ]
  },
  {
   "cell_type": "markdown",
   "metadata": {},
   "source": [
    "### z=(X-μ)/σ\n",
    "z=(1100 – 1026) / 209 =0.354. \n",
    "\n",
    "A z-score of 0.354 is 0.1368 + 0.5= .6368 or 63.68%.\n",
    "\n",
    "The z-table shown has scores for the RIGHT of the mean. Therefore, we have to add 0.5 for all of the area LEFT of the mean. \n",
    "\n"
   ]
  },
  {
   "cell_type": "code",
   "execution_count": 3,
   "metadata": {},
   "outputs": [
    {
     "name": "stdout",
     "output_type": "stream",
     "text": [
      "𝜇= 1026\tX̄= 1100\t  𝜎 =  209\n",
      "z=  0.35406698564593303\n",
      "p-value associated with 0.35406698564593303 is  0.6383556584353189\n"
     ]
    }
   ],
   "source": [
    "#Using stats\n",
    "import numpy as np\n",
    "from scipy import stats\n",
    "def Zscore(x, mean, stdev):\n",
    "    return (x - mean)/stdev\n",
    "\n",
    "\n",
    "x = 1100\n",
    "mean = 1026\n",
    "stdev = 209\n",
    "\n",
    "z = Zscore(x, mean, stdev)\n",
    "print(\"𝜇= \"+str(mean)+\"\\tX̄= \"+str(x)+ \"\\t  𝜎 =  \"+str(stdev))\n",
    "print(\"z= \",z)\n",
    "p= stats.norm.cdf(z)\n",
    "print(\"p-value associated with \"+str(z)+\" is \",p)"
   ]
  },
  {
   "cell_type": "code",
   "execution_count": null,
   "metadata": {},
   "outputs": [],
   "source": []
  },
  {
   "cell_type": "code",
   "execution_count": null,
   "metadata": {},
   "outputs": [],
   "source": []
  }
 ],
 "metadata": {
  "kernelspec": {
   "display_name": "Python 3",
   "language": "python",
   "name": "python3"
  },
  "language_info": {
   "codemirror_mode": {
    "name": "ipython",
    "version": 3
   },
   "file_extension": ".py",
   "mimetype": "text/x-python",
   "name": "python",
   "nbconvert_exporter": "python",
   "pygments_lexer": "ipython3",
   "version": "3.7.1"
  }
 },
 "nbformat": 4,
 "nbformat_minor": 2
}
