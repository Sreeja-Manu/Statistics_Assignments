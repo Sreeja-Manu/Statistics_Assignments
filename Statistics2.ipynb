{
 "cells": [
  {
   "cell_type": "code",
   "execution_count": 1,
   "metadata": {},
   "outputs": [],
   "source": [
    "import numpy as np\n",
    "import pandas as pd\n",
    "import scipy\n",
    "from scipy.stats import binom"
   ]
  },
  {
   "cell_type": "markdown",
   "metadata": {},
   "source": [
    "### A test is conducted which is consisting of 20 MCQs (multiple choices questions) with every MCQ having its four options out of which only one is correct. Determine the probability that a person undertaking that test has answered exactly 5 questions wrong."
   ]
  },
  {
   "cell_type": "code",
   "execution_count": 2,
   "metadata": {},
   "outputs": [],
   "source": [
    "#Binomial Distribution B(n,p) is equal to the value k, where k = 0, 1,....,n , is given by \n",
    "#nCk * p^k * q^(n-k)"
   ]
  },
  {
   "cell_type": "code",
   "execution_count": 3,
   "metadata": {},
   "outputs": [],
   "source": [
    "#B(n,p)=(n! / (n-k!)*k!) * (p**k) * (q**(n-k))"
   ]
  },
  {
   "cell_type": "markdown",
   "metadata": {},
   "source": [
    "B(n,p)=(n! / (n-k!)*k!) * (p**k) * (q**(n-k))\n",
    "\n",
    "Here, n = 20, k = 20 - 5 = 15, n - k = 20-15 = 5\n",
    "\n",
    "Here the probability of success = probability of giving a right answer = p = 1/4\n",
    "\n",
    "Hence, the probability of failure = probability of giving a wrong answer = 1 - p\n",
    "= 1 - 1/4 = 3/4\n",
    "\n",
    "When we substitute these values in the formula for Binomial distribution we get,\n",
    "\n",
    "So, P (exactly 5 out of 20 answers incorrect) = C (20, 5) * (1/4) 15 * (3/4) 5\n",
    "\n"
   ]
  },
  {
   "cell_type": "code",
   "execution_count": 4,
   "metadata": {},
   "outputs": [
    {
     "name": "stdout",
     "output_type": "stream",
     "text": [
      "Probability=  0.000003426\n"
     ]
    }
   ],
   "source": [
    "#Probability,P =((20!)/(15! * 5!)) * (1/4) **15 * (3/4) **5\n",
    "P= format(((20*19*18*17*16)/(5*4*3*2*1))*((1/4)**15) *((3/4)**5),'0.9f')\n",
    "print(\"Probability= \",P)"
   ]
  },
  {
   "cell_type": "code",
   "execution_count": 5,
   "metadata": {},
   "outputs": [],
   "source": [
    "#Another method\n",
    "\n",
    "n = 20\n",
    "probofsuccess=(1/4)\n",
    "proboffailure = 1 - probofsuccess\n",
    "#Exact 5 failures\n",
    "k = 20 - 5 "
   ]
  },
  {
   "cell_type": "code",
   "execution_count": 6,
   "metadata": {},
   "outputs": [
    {
     "name": "stdout",
     "output_type": "stream",
     "text": [
      "Probability=  0.000003426\n"
     ]
    }
   ],
   "source": [
    "combinations = scipy.special.comb(n, k, exact=False, repetition=False)\n",
    "probability = format(combinations * np.power((probofsuccess),k)*((proboffailure)**(n-k)),'0.9f')\n",
    "print(\"Probability= \",probability)"
   ]
  },
  {
   "cell_type": "markdown",
   "metadata": {},
   "source": [
    "***"
   ]
  },
  {
   "cell_type": "markdown",
   "metadata": {},
   "source": [
    "### Qn.2.A die marked A to E is rolled 50 times. Find the probability of getting a “D” exactly 5 times. "
   ]
  },
  {
   "cell_type": "markdown",
   "metadata": {},
   "source": [
    "Here, n = 50, k = 5, n - k = 45.\n",
    "\n",
    "The probability of success = probability of getting a “D”= p = 1/5\n",
    "\n",
    "Hence, the probability of failure = probability of not getting a “D” =q= 1 - p = 4/5."
   ]
  },
  {
   "cell_type": "code",
   "execution_count": 7,
   "metadata": {},
   "outputs": [
    {
     "name": "stdout",
     "output_type": "stream",
     "text": [
      "Probability=  0.029531204\n"
     ]
    }
   ],
   "source": [
    "n = 50\n",
    "k = 5\n",
    "probofsuccess=1/5\n",
    "proboffailure = 1 - probofsuccess\n",
    "combinations = scipy.special.comb(n, k, exact=False, repetition=False)\n",
    "probability = format(combinations * np.power((probofsuccess),k)*((proboffailure)**(n-k)),'0.9f')\n",
    "print(\"Probability= \",probability)"
   ]
  },
  {
   "cell_type": "markdown",
   "metadata": {},
   "source": [
    "***"
   ]
  },
  {
   "cell_type": "markdown",
   "metadata": {},
   "source": [
    "### Qn.3. Two balls are drawn at random in succession without replacement from an urn containing 4 red balls and 6 black balls.Find the probabilities of all the possible outcomes. "
   ]
  },
  {
   "cell_type": "code",
   "execution_count": 8,
   "metadata": {},
   "outputs": [
    {
     "name": "stdout",
     "output_type": "stream",
     "text": [
      "Probability_of_two_reds(RR)=  0.13333333333333333\n",
      "\n",
      "Probability_of_one_red_one_black(RB)=  0.26666666666666666\n",
      "\n",
      "Probability_of_one_black_one_red(BR)=  0.26666666666666666\n",
      "\n",
      "Probability_of_two_blacks(BB)=  0.3333333333333333\n",
      "\n",
      "Sum_of_all_probabilities= 1.0\n"
     ]
    }
   ],
   "source": [
    "Total_balls=6+4\n",
    "\n",
    "#Probabilities of all possible outcomes\n",
    "\n",
    "Probability_of_two_reds=(4/10)*(3/9)\n",
    "print(\"Probability_of_two_reds(RR)= \",Probability_of_two_reds)\n",
    "\n",
    "Probability_of_one_red_one_black=(4/10)*(6/9)\n",
    "print(\"\\nProbability_of_one_red_one_black(RB)= \",Probability_of_one_red_one_black)\n",
    "\n",
    "Probability_of_one_black_one_red=(6/10)*(4/9)\n",
    "print(\"\\nProbability_of_one_black_one_red(BR)= \",Probability_of_one_black_one_red)\n",
    "\n",
    "Probability_of_two_blacks=(6/10)*(5/9)\n",
    "print(\"\\nProbability_of_two_blacks(BB)= \",Probability_of_two_blacks)\n",
    "\n",
    "Sum_of_all_probabilities=Probability_of_two_reds+Probability_of_one_red_one_black+Probability_of_one_black_one_red+Probability_of_two_blacks\n",
    "print(\"\\nSum_of_all_probabilities=\",Sum_of_all_probabilities)"
   ]
  },
  {
   "cell_type": "code",
   "execution_count": null,
   "metadata": {},
   "outputs": [],
   "source": []
  },
  {
   "cell_type": "code",
   "execution_count": null,
   "metadata": {},
   "outputs": [],
   "source": []
  }
 ],
 "metadata": {
  "kernelspec": {
   "display_name": "Python 3",
   "language": "python",
   "name": "python3"
  },
  "language_info": {
   "codemirror_mode": {
    "name": "ipython",
    "version": 3
   },
   "file_extension": ".py",
   "mimetype": "text/x-python",
   "name": "python",
   "nbconvert_exporter": "python",
   "pygments_lexer": "ipython3",
   "version": "3.7.1"
  }
 },
 "nbformat": 4,
 "nbformat_minor": 2
}
