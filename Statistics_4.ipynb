{
 "cells": [
  {
   "cell_type": "markdown",
   "metadata": {},
   "source": [
    "## Problem Statement 1:\n",
    "Is gender independent of education level? A random sample of 395 people were\n",
    "surveyed and each person was asked to report the highest education level they\n",
    "obtained. The data that resulted from the survey is summarized in the following table:\n",
    "\n",
    "            High School Bachelors Masters Ph.d. Total\n",
    "     Female         60     54        46    41    201\n",
    "      Male          40     44        53    57    194\n",
    "      Total         100    98        99    98    395\n",
    "\n",
    "Question: Are gender and education level dependent at 5% level of significance? In\n",
    "other words, given the data collected above, is there a relationship between the\n",
    "gender of an individual and the level of education that they have obtained?"
   ]
  },
  {
   "cell_type": "markdown",
   "metadata": {},
   "source": [
    "***"
   ]
  },
  {
   "cell_type": "markdown",
   "metadata": {},
   "source": [
    "#### Chi-square Test Statistic,χ2= Σ  [(O-E)**2] / E ;\n",
    "\n",
    "where O is the Observed Frequency and E is the Expected Frequency under the null hypothesis\n",
    "\n",
    "#### E=(Row Total * Column Total)/Sample Size"
   ]
  },
  {
   "cell_type": "code",
   "execution_count": 1,
   "metadata": {},
   "outputs": [
    {
     "data": {
      "text/html": [
       "<div>\n",
       "<style scoped>\n",
       "    .dataframe tbody tr th:only-of-type {\n",
       "        vertical-align: middle;\n",
       "    }\n",
       "\n",
       "    .dataframe tbody tr th {\n",
       "        vertical-align: top;\n",
       "    }\n",
       "\n",
       "    .dataframe thead th {\n",
       "        text-align: right;\n",
       "    }\n",
       "</style>\n",
       "<table border=\"1\" class=\"dataframe\">\n",
       "  <thead>\n",
       "    <tr style=\"text-align: right;\">\n",
       "      <th></th>\n",
       "      <th>HighSchool</th>\n",
       "      <th>Bachelors</th>\n",
       "      <th>Masters</th>\n",
       "      <th>PhD</th>\n",
       "      <th>Row_Total</th>\n",
       "    </tr>\n",
       "  </thead>\n",
       "  <tbody>\n",
       "    <tr>\n",
       "      <th>Female</th>\n",
       "      <td>60</td>\n",
       "      <td>54</td>\n",
       "      <td>46</td>\n",
       "      <td>41</td>\n",
       "      <td>201</td>\n",
       "    </tr>\n",
       "    <tr>\n",
       "      <th>Male</th>\n",
       "      <td>40</td>\n",
       "      <td>44</td>\n",
       "      <td>53</td>\n",
       "      <td>57</td>\n",
       "      <td>194</td>\n",
       "    </tr>\n",
       "    <tr>\n",
       "      <th>Col_Total</th>\n",
       "      <td>100</td>\n",
       "      <td>98</td>\n",
       "      <td>99</td>\n",
       "      <td>98</td>\n",
       "      <td>395</td>\n",
       "    </tr>\n",
       "  </tbody>\n",
       "</table>\n",
       "</div>"
      ],
      "text/plain": [
       "           HighSchool  Bachelors  Masters  PhD  Row_Total\n",
       "Female             60         54       46   41        201\n",
       "Male               40         44       53   57        194\n",
       "Col_Total         100         98       99   98        395"
      ]
     },
     "execution_count": 1,
     "metadata": {},
     "output_type": "execute_result"
    }
   ],
   "source": [
    "import numpy as np\n",
    "import pandas as pd\n",
    "df = pd.DataFrame(np.array([[60,54,46,41,201], [40,44,53,57,194],[100,98,99,98,395]])\n",
    "                          ,columns=['HighSchool','Bachelors','Masters','PhD','Row_Total'])\n",
    "df.rename(index={0:'Female',1:'Male',2:'Col_Total'}, inplace=True)\n",
    "df"
   ]
  },
  {
   "cell_type": "code",
   "execution_count": 2,
   "metadata": {},
   "outputs": [
    {
     "data": {
      "text/html": [
       "<div>\n",
       "<style scoped>\n",
       "    .dataframe tbody tr th:only-of-type {\n",
       "        vertical-align: middle;\n",
       "    }\n",
       "\n",
       "    .dataframe tbody tr th {\n",
       "        vertical-align: top;\n",
       "    }\n",
       "\n",
       "    .dataframe thead th {\n",
       "        text-align: right;\n",
       "    }\n",
       "</style>\n",
       "<table border=\"1\" class=\"dataframe\">\n",
       "  <thead>\n",
       "    <tr style=\"text-align: right;\">\n",
       "      <th></th>\n",
       "      <th>HighSchool</th>\n",
       "      <th>Bachelors</th>\n",
       "      <th>Masters</th>\n",
       "      <th>PhD</th>\n",
       "    </tr>\n",
       "  </thead>\n",
       "  <tbody>\n",
       "    <tr>\n",
       "      <th>Female</th>\n",
       "      <td>50.886076</td>\n",
       "      <td>49.868354</td>\n",
       "      <td>50.377215</td>\n",
       "      <td>49.868354</td>\n",
       "    </tr>\n",
       "    <tr>\n",
       "      <th>Male</th>\n",
       "      <td>49.113924</td>\n",
       "      <td>48.131646</td>\n",
       "      <td>48.622785</td>\n",
       "      <td>48.131646</td>\n",
       "    </tr>\n",
       "  </tbody>\n",
       "</table>\n",
       "</div>"
      ],
      "text/plain": [
       "        HighSchool  Bachelors    Masters        PhD\n",
       "Female   50.886076  49.868354  50.377215  49.868354\n",
       "Male     49.113924  48.131646  48.622785  48.131646"
      ]
     },
     "execution_count": 2,
     "metadata": {},
     "output_type": "execute_result"
    }
   ],
   "source": [
    "expected =  np.outer(df[\"Row_Total\"][0:2],\n",
    "                     df.loc[\"Col_Total\"][0:4]) / 395\n",
    "\n",
    "expected = pd.DataFrame(expected)\n",
    "\n",
    "expected.columns = ['HighSchool','Bachelors','Masters','PhD']\n",
    "expected.index = [\"Female\",\"Male\"]\n",
    "\n",
    "expected"
   ]
  },
  {
   "cell_type": "code",
   "execution_count": 3,
   "metadata": {},
   "outputs": [
    {
     "name": "stdout",
     "output_type": "stream",
     "text": [
      "Chi-Square Statistic= 8.006\n"
     ]
    }
   ],
   "source": [
    "observed = df.iloc[0:2,0:4]\n",
    "chi_squared_stat = (((observed-expected)**2)/expected).sum().sum()\n",
    "\n",
    "print(\"Chi-Square Statistic= {:.3f}\".format(chi_squared_stat))"
   ]
  },
  {
   "cell_type": "markdown",
   "metadata": {},
   "source": [
    " We call .sum() twice: once to get the column sums and a second time to add the column sums together, returning the sum of the entire 2D table."
   ]
  },
  {
   "cell_type": "code",
   "execution_count": 4,
   "metadata": {},
   "outputs": [
    {
     "name": "stdout",
     "output_type": "stream",
     "text": [
      "Critical value\n",
      "7.814727903251179\n",
      "P value\n",
      "0.04588650089174717\n"
     ]
    }
   ],
   "source": [
    "import scipy.stats as stats\n",
    "crit = stats.chi2.ppf(q = 0.95, # Find the critical value for 95% confidence*\n",
    "                      df = 3)   \n",
    "\n",
    "print(\"Critical value\")\n",
    "print(crit)\n",
    "p_value = 1 - stats.chi2.cdf(x=chi_squared_stat,  # Find the p-value\n",
    "                             df=3)\n",
    "print(\"P value\")\n",
    "print(p_value)"
   ]
  },
  {
   "cell_type": "markdown",
   "metadata": {},
   "source": [
    "#### The critical value of χ2 with 3 degree of freedom is 7.815. Since 8.006 > 7.815, therefore we reject the null hypothesis and conclude that the education level depends on gender at a 5% level of significance."
   ]
  },
  {
   "cell_type": "code",
   "execution_count": 5,
   "metadata": {},
   "outputs": [
    {
     "data": {
      "text/plain": [
       "(8.006066246262538,\n",
       " 0.045886500891747214,\n",
       " 3,\n",
       " array([[50.88607595, 49.86835443, 50.37721519, 49.86835443],\n",
       "        [49.11392405, 48.13164557, 48.62278481, 48.13164557]]))"
      ]
     },
     "execution_count": 5,
     "metadata": {},
     "output_type": "execute_result"
    }
   ],
   "source": [
    "#An alternate method to find the Critical value,p-vale and degrees of freedom using stats is as follows:\n",
    "stats.chi2_contingency(observed= observed)"
   ]
  },
  {
   "cell_type": "markdown",
   "metadata": {},
   "source": [
    "The output shows the chi-square statistic, the p-value and the degrees of freedom followed by the expected counts.The critical value of χ2 with 3 degree of freedom is 7.815. Since 8.006 > 7.815, therefore we reject the null hypothesis and conclude that the education level depends on gender at a 5% level of significance."
   ]
  },
  {
   "cell_type": "markdown",
   "metadata": {},
   "source": [
    "***"
   ]
  },
  {
   "cell_type": "markdown",
   "metadata": {},
   "source": [
    "## Problem Statement 2: \n",
    " \n",
    "Using the following data, perform a oneway analysis of variance using α=.05. Write up the results in APA format. \n",
    " \n",
    " \n",
    "[Group1: 51, 45, 33, 45, 67]  \n",
    "[Group2: 23, 43, 23, 43, 45]  \n",
    "[Group3: 56, 76, 74, 87, 56] "
   ]
  },
  {
   "cell_type": "code",
   "execution_count": 6,
   "metadata": {},
   "outputs": [],
   "source": [
    "data = {'Group1':[51,45,33,45,67], \n",
    "        'Group2':[23,43,23,43,45], \n",
    "        'Group3':[56,76,74,87,56]} \n",
    "data = pd.DataFrame(data)"
   ]
  },
  {
   "cell_type": "code",
   "execution_count": 7,
   "metadata": {},
   "outputs": [
    {
     "data": {
      "text/html": [
       "<div>\n",
       "<style scoped>\n",
       "    .dataframe tbody tr th:only-of-type {\n",
       "        vertical-align: middle;\n",
       "    }\n",
       "\n",
       "    .dataframe tbody tr th {\n",
       "        vertical-align: top;\n",
       "    }\n",
       "\n",
       "    .dataframe thead th {\n",
       "        text-align: right;\n",
       "    }\n",
       "</style>\n",
       "<table border=\"1\" class=\"dataframe\">\n",
       "  <thead>\n",
       "    <tr style=\"text-align: right;\">\n",
       "      <th></th>\n",
       "      <th>Group1</th>\n",
       "      <th>Group2</th>\n",
       "      <th>Group3</th>\n",
       "    </tr>\n",
       "  </thead>\n",
       "  <tbody>\n",
       "    <tr>\n",
       "      <th>0</th>\n",
       "      <td>51</td>\n",
       "      <td>23</td>\n",
       "      <td>56</td>\n",
       "    </tr>\n",
       "    <tr>\n",
       "      <th>1</th>\n",
       "      <td>45</td>\n",
       "      <td>43</td>\n",
       "      <td>76</td>\n",
       "    </tr>\n",
       "    <tr>\n",
       "      <th>2</th>\n",
       "      <td>33</td>\n",
       "      <td>23</td>\n",
       "      <td>74</td>\n",
       "    </tr>\n",
       "    <tr>\n",
       "      <th>3</th>\n",
       "      <td>45</td>\n",
       "      <td>43</td>\n",
       "      <td>87</td>\n",
       "    </tr>\n",
       "    <tr>\n",
       "      <th>4</th>\n",
       "      <td>67</td>\n",
       "      <td>45</td>\n",
       "      <td>56</td>\n",
       "    </tr>\n",
       "  </tbody>\n",
       "</table>\n",
       "</div>"
      ],
      "text/plain": [
       "   Group1  Group2  Group3\n",
       "0      51      23      56\n",
       "1      45      43      76\n",
       "2      33      23      74\n",
       "3      45      43      87\n",
       "4      67      45      56"
      ]
     },
     "execution_count": 7,
     "metadata": {},
     "output_type": "execute_result"
    }
   ],
   "source": [
    "data"
   ]
  },
  {
   "cell_type": "markdown",
   "metadata": {},
   "source": [
    "#### Step 1: Calculate all the means"
   ]
  },
  {
   "cell_type": "code",
   "execution_count": 8,
   "metadata": {},
   "outputs": [
    {
     "name": "stdout",
     "output_type": "stream",
     "text": [
      "Means of the groups:\n",
      " Group1    48.2\n",
      "Group2    35.4\n",
      "Group3    69.8\n",
      "dtype: float64\n",
      "Grand mean=  51.13\n"
     ]
    }
   ],
   "source": [
    "means=data.mean()\n",
    "print(\"Means of the groups:\\n\",means)\n",
    "grand_mean=means.mean()\n",
    "print(\"Grand mean= \",round(grand_mean,2))"
   ]
  },
  {
   "cell_type": "markdown",
   "metadata": {},
   "source": [
    "#### Step 2: Specify the rejection area\n",
    "α = 0.05\n",
    "Rejection criteria: K(0.05) < F\n",
    "This means that if the critical value of F from tables is less than the calculated value of F, we reject the null hypothesis"
   ]
  },
  {
   "cell_type": "markdown",
   "metadata": {},
   "source": [
    "#### Step 3: Calculate the Sum of Squares\n",
    "The formula for sum of squares is \n",
    "SS(total)=SS(between)+SS(within)"
   ]
  },
  {
   "cell_type": "code",
   "execution_count": 9,
   "metadata": {},
   "outputs": [],
   "source": [
    "data['g1_sst']=(data.Group1-grand_mean)**2\n",
    "data['g2_sst']=(data.Group2-grand_mean)**2\n",
    "data['g3_sst']=(data.Group3-grand_mean)**2"
   ]
  },
  {
   "cell_type": "code",
   "execution_count": 10,
   "metadata": {},
   "outputs": [
    {
     "data": {
      "text/html": [
       "<div>\n",
       "<style scoped>\n",
       "    .dataframe tbody tr th:only-of-type {\n",
       "        vertical-align: middle;\n",
       "    }\n",
       "\n",
       "    .dataframe tbody tr th {\n",
       "        vertical-align: top;\n",
       "    }\n",
       "\n",
       "    .dataframe thead th {\n",
       "        text-align: right;\n",
       "    }\n",
       "</style>\n",
       "<table border=\"1\" class=\"dataframe\">\n",
       "  <thead>\n",
       "    <tr style=\"text-align: right;\">\n",
       "      <th></th>\n",
       "      <th>Group1</th>\n",
       "      <th>Group2</th>\n",
       "      <th>Group3</th>\n",
       "      <th>g1_sst</th>\n",
       "      <th>g2_sst</th>\n",
       "      <th>g3_sst</th>\n",
       "    </tr>\n",
       "  </thead>\n",
       "  <tbody>\n",
       "    <tr>\n",
       "      <th>0</th>\n",
       "      <td>51</td>\n",
       "      <td>23</td>\n",
       "      <td>56</td>\n",
       "      <td>0.017778</td>\n",
       "      <td>791.484444</td>\n",
       "      <td>23.684444</td>\n",
       "    </tr>\n",
       "    <tr>\n",
       "      <th>1</th>\n",
       "      <td>45</td>\n",
       "      <td>43</td>\n",
       "      <td>76</td>\n",
       "      <td>37.617778</td>\n",
       "      <td>66.151111</td>\n",
       "      <td>618.351111</td>\n",
       "    </tr>\n",
       "    <tr>\n",
       "      <th>2</th>\n",
       "      <td>33</td>\n",
       "      <td>23</td>\n",
       "      <td>74</td>\n",
       "      <td>328.817778</td>\n",
       "      <td>791.484444</td>\n",
       "      <td>522.884444</td>\n",
       "    </tr>\n",
       "    <tr>\n",
       "      <th>3</th>\n",
       "      <td>45</td>\n",
       "      <td>43</td>\n",
       "      <td>87</td>\n",
       "      <td>37.617778</td>\n",
       "      <td>66.151111</td>\n",
       "      <td>1286.417778</td>\n",
       "    </tr>\n",
       "    <tr>\n",
       "      <th>4</th>\n",
       "      <td>67</td>\n",
       "      <td>45</td>\n",
       "      <td>56</td>\n",
       "      <td>251.751111</td>\n",
       "      <td>37.617778</td>\n",
       "      <td>23.684444</td>\n",
       "    </tr>\n",
       "  </tbody>\n",
       "</table>\n",
       "</div>"
      ],
      "text/plain": [
       "   Group1  Group2  Group3      g1_sst      g2_sst       g3_sst\n",
       "0      51      23      56    0.017778  791.484444    23.684444\n",
       "1      45      43      76   37.617778   66.151111   618.351111\n",
       "2      33      23      74  328.817778  791.484444   522.884444\n",
       "3      45      43      87   37.617778   66.151111  1286.417778\n",
       "4      67      45      56  251.751111   37.617778    23.684444"
      ]
     },
     "execution_count": 10,
     "metadata": {},
     "output_type": "execute_result"
    }
   ],
   "source": [
    "data"
   ]
  },
  {
   "cell_type": "code",
   "execution_count": 11,
   "metadata": {},
   "outputs": [
    {
     "name": "stdout",
     "output_type": "stream",
     "text": [
      "Total Sum of Squares, SS(Total)=  4883.733333333334\n"
     ]
    }
   ],
   "source": [
    "SST=data.g1_sst.sum()+data.g2_sst.sum()+data.g3_sst.sum()\n",
    "print(\"Total Sum of Squares, SS(Total)= \",SST)"
   ]
  },
  {
   "cell_type": "code",
   "execution_count": 12,
   "metadata": {},
   "outputs": [
    {
     "data": {
      "text/html": [
       "<div>\n",
       "<style scoped>\n",
       "    .dataframe tbody tr th:only-of-type {\n",
       "        vertical-align: middle;\n",
       "    }\n",
       "\n",
       "    .dataframe tbody tr th {\n",
       "        vertical-align: top;\n",
       "    }\n",
       "\n",
       "    .dataframe thead th {\n",
       "        text-align: right;\n",
       "    }\n",
       "</style>\n",
       "<table border=\"1\" class=\"dataframe\">\n",
       "  <thead>\n",
       "    <tr style=\"text-align: right;\">\n",
       "      <th></th>\n",
       "      <th>Group1</th>\n",
       "      <th>Group2</th>\n",
       "      <th>Group3</th>\n",
       "      <th>g1_sst</th>\n",
       "      <th>g2_sst</th>\n",
       "      <th>g3_sst</th>\n",
       "      <th>g1_ssw</th>\n",
       "      <th>g2_ssw</th>\n",
       "      <th>g3_ssw</th>\n",
       "    </tr>\n",
       "  </thead>\n",
       "  <tbody>\n",
       "    <tr>\n",
       "      <th>0</th>\n",
       "      <td>51</td>\n",
       "      <td>23</td>\n",
       "      <td>56</td>\n",
       "      <td>0.017778</td>\n",
       "      <td>791.484444</td>\n",
       "      <td>23.684444</td>\n",
       "      <td>7.84</td>\n",
       "      <td>153.76</td>\n",
       "      <td>190.44</td>\n",
       "    </tr>\n",
       "    <tr>\n",
       "      <th>1</th>\n",
       "      <td>45</td>\n",
       "      <td>43</td>\n",
       "      <td>76</td>\n",
       "      <td>37.617778</td>\n",
       "      <td>66.151111</td>\n",
       "      <td>618.351111</td>\n",
       "      <td>10.24</td>\n",
       "      <td>57.76</td>\n",
       "      <td>38.44</td>\n",
       "    </tr>\n",
       "    <tr>\n",
       "      <th>2</th>\n",
       "      <td>33</td>\n",
       "      <td>23</td>\n",
       "      <td>74</td>\n",
       "      <td>328.817778</td>\n",
       "      <td>791.484444</td>\n",
       "      <td>522.884444</td>\n",
       "      <td>231.04</td>\n",
       "      <td>153.76</td>\n",
       "      <td>17.64</td>\n",
       "    </tr>\n",
       "    <tr>\n",
       "      <th>3</th>\n",
       "      <td>45</td>\n",
       "      <td>43</td>\n",
       "      <td>87</td>\n",
       "      <td>37.617778</td>\n",
       "      <td>66.151111</td>\n",
       "      <td>1286.417778</td>\n",
       "      <td>10.24</td>\n",
       "      <td>57.76</td>\n",
       "      <td>295.84</td>\n",
       "    </tr>\n",
       "    <tr>\n",
       "      <th>4</th>\n",
       "      <td>67</td>\n",
       "      <td>45</td>\n",
       "      <td>56</td>\n",
       "      <td>251.751111</td>\n",
       "      <td>37.617778</td>\n",
       "      <td>23.684444</td>\n",
       "      <td>353.44</td>\n",
       "      <td>92.16</td>\n",
       "      <td>190.44</td>\n",
       "    </tr>\n",
       "  </tbody>\n",
       "</table>\n",
       "</div>"
      ],
      "text/plain": [
       "   Group1  Group2  Group3      g1_sst      g2_sst       g3_sst  g1_ssw  \\\n",
       "0      51      23      56    0.017778  791.484444    23.684444    7.84   \n",
       "1      45      43      76   37.617778   66.151111   618.351111   10.24   \n",
       "2      33      23      74  328.817778  791.484444   522.884444  231.04   \n",
       "3      45      43      87   37.617778   66.151111  1286.417778   10.24   \n",
       "4      67      45      56  251.751111   37.617778    23.684444  353.44   \n",
       "\n",
       "   g2_ssw  g3_ssw  \n",
       "0  153.76  190.44  \n",
       "1   57.76   38.44  \n",
       "2  153.76   17.64  \n",
       "3   57.76  295.84  \n",
       "4   92.16  190.44  "
      ]
     },
     "execution_count": 12,
     "metadata": {},
     "output_type": "execute_result"
    }
   ],
   "source": [
    "data['g1_ssw']=(data.Group1-data.Group1.mean())**2\n",
    "data['g2_ssw']=(data.Group2-data.Group2.mean())**2\n",
    "data['g3_ssw']=(data.Group3-data.Group3.mean())**2\n",
    "data"
   ]
  },
  {
   "cell_type": "code",
   "execution_count": 13,
   "metadata": {},
   "outputs": [
    {
     "name": "stdout",
     "output_type": "stream",
     "text": [
      "Sum of Squares within groups, SSW=  1860.8\n"
     ]
    }
   ],
   "source": [
    "ssw=data.g1_ssw.sum()+data.g2_ssw.sum()+data.g3_ssw.sum()\n",
    "print(\"Sum of Squares within groups, SSW= \",ssw)"
   ]
  },
  {
   "cell_type": "code",
   "execution_count": 14,
   "metadata": {},
   "outputs": [
    {
     "data": {
      "text/html": [
       "<div>\n",
       "<style scoped>\n",
       "    .dataframe tbody tr th:only-of-type {\n",
       "        vertical-align: middle;\n",
       "    }\n",
       "\n",
       "    .dataframe tbody tr th {\n",
       "        vertical-align: top;\n",
       "    }\n",
       "\n",
       "    .dataframe thead th {\n",
       "        text-align: right;\n",
       "    }\n",
       "</style>\n",
       "<table border=\"1\" class=\"dataframe\">\n",
       "  <thead>\n",
       "    <tr style=\"text-align: right;\">\n",
       "      <th></th>\n",
       "      <th>Group1</th>\n",
       "      <th>Group2</th>\n",
       "      <th>Group3</th>\n",
       "      <th>g1_sst</th>\n",
       "      <th>g2_sst</th>\n",
       "      <th>g3_sst</th>\n",
       "      <th>g1_ssw</th>\n",
       "      <th>g2_ssw</th>\n",
       "      <th>g3_ssw</th>\n",
       "      <th>g1_ssb</th>\n",
       "      <th>g2_ssb</th>\n",
       "      <th>g3_ssb</th>\n",
       "    </tr>\n",
       "  </thead>\n",
       "  <tbody>\n",
       "    <tr>\n",
       "      <th>0</th>\n",
       "      <td>51</td>\n",
       "      <td>23</td>\n",
       "      <td>56</td>\n",
       "      <td>0.017778</td>\n",
       "      <td>791.484444</td>\n",
       "      <td>23.684444</td>\n",
       "      <td>7.84</td>\n",
       "      <td>153.76</td>\n",
       "      <td>190.44</td>\n",
       "      <td>8.604444</td>\n",
       "      <td>247.537778</td>\n",
       "      <td>348.444444</td>\n",
       "    </tr>\n",
       "    <tr>\n",
       "      <th>1</th>\n",
       "      <td>45</td>\n",
       "      <td>43</td>\n",
       "      <td>76</td>\n",
       "      <td>37.617778</td>\n",
       "      <td>66.151111</td>\n",
       "      <td>618.351111</td>\n",
       "      <td>10.24</td>\n",
       "      <td>57.76</td>\n",
       "      <td>38.44</td>\n",
       "      <td>8.604444</td>\n",
       "      <td>247.537778</td>\n",
       "      <td>348.444444</td>\n",
       "    </tr>\n",
       "    <tr>\n",
       "      <th>2</th>\n",
       "      <td>33</td>\n",
       "      <td>23</td>\n",
       "      <td>74</td>\n",
       "      <td>328.817778</td>\n",
       "      <td>791.484444</td>\n",
       "      <td>522.884444</td>\n",
       "      <td>231.04</td>\n",
       "      <td>153.76</td>\n",
       "      <td>17.64</td>\n",
       "      <td>8.604444</td>\n",
       "      <td>247.537778</td>\n",
       "      <td>348.444444</td>\n",
       "    </tr>\n",
       "    <tr>\n",
       "      <th>3</th>\n",
       "      <td>45</td>\n",
       "      <td>43</td>\n",
       "      <td>87</td>\n",
       "      <td>37.617778</td>\n",
       "      <td>66.151111</td>\n",
       "      <td>1286.417778</td>\n",
       "      <td>10.24</td>\n",
       "      <td>57.76</td>\n",
       "      <td>295.84</td>\n",
       "      <td>8.604444</td>\n",
       "      <td>247.537778</td>\n",
       "      <td>348.444444</td>\n",
       "    </tr>\n",
       "    <tr>\n",
       "      <th>4</th>\n",
       "      <td>67</td>\n",
       "      <td>45</td>\n",
       "      <td>56</td>\n",
       "      <td>251.751111</td>\n",
       "      <td>37.617778</td>\n",
       "      <td>23.684444</td>\n",
       "      <td>353.44</td>\n",
       "      <td>92.16</td>\n",
       "      <td>190.44</td>\n",
       "      <td>8.604444</td>\n",
       "      <td>247.537778</td>\n",
       "      <td>348.444444</td>\n",
       "    </tr>\n",
       "  </tbody>\n",
       "</table>\n",
       "</div>"
      ],
      "text/plain": [
       "   Group1  Group2  Group3      g1_sst      g2_sst       g3_sst  g1_ssw  \\\n",
       "0      51      23      56    0.017778  791.484444    23.684444    7.84   \n",
       "1      45      43      76   37.617778   66.151111   618.351111   10.24   \n",
       "2      33      23      74  328.817778  791.484444   522.884444  231.04   \n",
       "3      45      43      87   37.617778   66.151111  1286.417778   10.24   \n",
       "4      67      45      56  251.751111   37.617778    23.684444  353.44   \n",
       "\n",
       "   g2_ssw  g3_ssw    g1_ssb      g2_ssb      g3_ssb  \n",
       "0  153.76  190.44  8.604444  247.537778  348.444444  \n",
       "1   57.76   38.44  8.604444  247.537778  348.444444  \n",
       "2  153.76   17.64  8.604444  247.537778  348.444444  \n",
       "3   57.76  295.84  8.604444  247.537778  348.444444  \n",
       "4   92.16  190.44  8.604444  247.537778  348.444444  "
      ]
     },
     "execution_count": 14,
     "metadata": {},
     "output_type": "execute_result"
    }
   ],
   "source": [
    "data['g1_ssb']=(data.Group1.mean()-grand_mean)**2\n",
    "data['g2_ssb']=(data.Group2.mean()-grand_mean)**2\n",
    "data['g3_ssb']=(data.Group3.mean()-grand_mean)**2\n",
    "data"
   ]
  },
  {
   "cell_type": "code",
   "execution_count": 15,
   "metadata": {},
   "outputs": [
    {
     "name": "stdout",
     "output_type": "stream",
     "text": [
      "Sum of Squares between groups, SSB=  3022.933333333333\n"
     ]
    }
   ],
   "source": [
    "ssb=data.g1_ssb.sum()+data.g2_ssb.sum()+data.g3_ssb.sum()\n",
    "print(\"Sum of Squares between groups, SSB= \",ssb)"
   ]
  },
  {
   "cell_type": "code",
   "execution_count": 16,
   "metadata": {},
   "outputs": [
    {
     "name": "stdout",
     "output_type": "stream",
     "text": [
      "4883.733333333333\n"
     ]
    }
   ],
   "source": [
    "sst=ssb+ssw\n",
    "print(sst)"
   ]
  },
  {
   "cell_type": "code",
   "execution_count": 17,
   "metadata": {},
   "outputs": [
    {
     "name": "stdout",
     "output_type": "stream",
     "text": [
      "Sum of Squares within groups, SSW=  1860.8\n",
      "Sum of Squares between groups, SSB=  3022.933333333333\n",
      "Total Sum of Squares, SST=  4883.733333333333\n"
     ]
    }
   ],
   "source": [
    "print(\"Sum of Squares within groups, SSW= \",ssw)\n",
    "print(\"Sum of Squares between groups, SSB= \",ssb)\n",
    "print(\"Total Sum of Squares, SST= \",sst)"
   ]
  },
  {
   "cell_type": "markdown",
   "metadata": {},
   "source": [
    "#### Step 4: Calculate the Degrees of Freedom"
   ]
  },
  {
   "cell_type": "code",
   "execution_count": 18,
   "metadata": {},
   "outputs": [
    {
     "name": "stdout",
     "output_type": "stream",
     "text": [
      "df(total)= 14\tdf(within)= 12\tdf(between)= 2\n"
     ]
    }
   ],
   "source": [
    "n=15 #total number of samples\n",
    "k=3 #total number of groups\n",
    "\n",
    "dft=n-1\n",
    "dfw =n-k \n",
    "dfb =k-1\n",
    "print(\"df(total)= \"+str(dft)+\"\\tdf(within)= \"+str(dfw)+\"\\tdf(between)= \"+str(dfb))\n",
    "\n"
   ]
  },
  {
   "cell_type": "markdown",
   "metadata": {},
   "source": [
    "#### Step 5: Calculate the Mean Squares\n",
    "Mean Square(between)=SS(between)/dfbetween\n",
    "Mean Square(within)=SS(within)/dfwithin"
   ]
  },
  {
   "cell_type": "code",
   "execution_count": 19,
   "metadata": {},
   "outputs": [
    {
     "name": "stdout",
     "output_type": "stream",
     "text": [
      "Mean Square Between--- MS(between)= 1511.4666666666665\n",
      "Mean Square Within--- MS(within)= 155.06666666666666\n"
     ]
    }
   ],
   "source": [
    "MSbetween=ssb/dfb\n",
    "MSwithin=ssw/dfw\n",
    "print(\"Mean Square Between--- MS(between)= \"+str(MSbetween)+\"\\nMean Square Within--- MS(within)= \"+str(MSwithin))"
   ]
  },
  {
   "cell_type": "markdown",
   "metadata": {},
   "source": [
    "#### Step 6: Calculate the F Statistic\n",
    "F=MS(between)/MS(within)"
   ]
  },
  {
   "cell_type": "code",
   "execution_count": 20,
   "metadata": {},
   "outputs": [
    {
     "name": "stdout",
     "output_type": "stream",
     "text": [
      "F statisitc =  9.747205503009457\n"
     ]
    }
   ],
   "source": [
    "F=MSbetween/MSwithin\n",
    "print(\"F statisitc = \",F)"
   ]
  },
  {
   "cell_type": "markdown",
   "metadata": {},
   "source": [
    "#### Step 7: Looking up F from table and stating Conclusion"
   ]
  },
  {
   "cell_type": "markdown",
   "metadata": {},
   "source": [
    "From the table of F distribution, the critical value of F for 0.05 significance and degrees of freedom of(df1 = 12 and df2 = 2) we have:\n",
    "\n",
    "F = 3.89\n",
    "\n",
    "Since the calculated(absolute value) of F is greater than the tabulated value, we reject the null hypothesis and conclude that at least two of the means are significantly different from each other."
   ]
  },
  {
   "cell_type": "markdown",
   "metadata": {},
   "source": [
    "Effect size\n",
    "\n",
    "η2=SSB/SST=3022.9/4883.7=0.62\n",
    "\n",
    "#### APA writeup\n",
    "\n",
    "F(2, 12)=9.75, p <0.05, η2=0.62."
   ]
  },
  {
   "cell_type": "code",
   "execution_count": 21,
   "metadata": {},
   "outputs": [
    {
     "data": {
      "text/plain": [
       "F_onewayResult(statistic=9.747205503009463, pvalue=0.0030597541434430556)"
      ]
     },
     "execution_count": 21,
     "metadata": {},
     "output_type": "execute_result"
    }
   ],
   "source": [
    "#Alternate method using stats to find f statistics is as follows\n",
    "stats.f_oneway([51,45,33,45,67],[23,43,23,43,45],[56,76,74,87,56])"
   ]
  },
  {
   "cell_type": "markdown",
   "metadata": {},
   "source": [
    "***"
   ]
  },
  {
   "cell_type": "markdown",
   "metadata": {},
   "source": [
    "## Problem Statement 3: \n",
    " \n",
    "Calculate F Test for given 10, 20, 30, 40, 50 and 5,10,15, 20, 25. \n",
    " \n",
    "For 10, 20, 30, 40, 50: "
   ]
  },
  {
   "cell_type": "code",
   "execution_count": 22,
   "metadata": {},
   "outputs": [
    {
     "name": "stdout",
     "output_type": "stream",
     "text": [
      "Set1:  [10 20 30 40 50]\n",
      "Set2:  [ 5 10 15 20 25]\n"
     ]
    }
   ],
   "source": [
    "set1=np.array([10,20,30,40,50])\n",
    "set2=np.array([5,10,15,20,25])\n",
    "print(\"Set1: \",set1)\n",
    "print(\"Set2: \",set2)"
   ]
  },
  {
   "cell_type": "code",
   "execution_count": 23,
   "metadata": {},
   "outputs": [
    {
     "name": "stdout",
     "output_type": "stream",
     "text": [
      "Mean of set1:  30.0\n",
      "Mean of set2:  15.0\n",
      "\n",
      "Standard Deviation of set1:  15.811388300841896\n",
      "Standard Deviation of set2:  7.905694150420948\n",
      " \n",
      "Variance of set1:  250.0\n",
      "Variance of set2:  62.5\n",
      "\n",
      "F_Test= Variance of set1/Variance of set2 = 250/62.5\n",
      "F Test value is  4.0\n"
     ]
    }
   ],
   "source": [
    "mean1=set1.mean()\n",
    "mean2=set2.mean()\n",
    "print(\"Mean of set1: \",mean1)\n",
    "print(\"Mean of set2: \",mean2)\n",
    "stdev1=np.std(set1,ddof=1)\n",
    "stdev2=np.std(set2,ddof=1)\n",
    "print(\"\\nStandard Deviation of set1: \",stdev1)\n",
    "print(\"Standard Deviation of set2: \",stdev2)\n",
    "var1=(stdev1)**2\n",
    "var2=(stdev2)**2\n",
    "print(\" \\nVariance of set1: \",var1)\n",
    "print(\"Variance of set2: \",var2)\n",
    "F_test=var1/var2\n",
    "print(\"\\nF_Test= Variance of set1/Variance of set2 = 250/62.5\")\n",
    "print(\"F Test value is \",F_test)\n"
   ]
  },
  {
   "cell_type": "code",
   "execution_count": null,
   "metadata": {},
   "outputs": [],
   "source": []
  },
  {
   "cell_type": "code",
   "execution_count": null,
   "metadata": {},
   "outputs": [],
   "source": []
  }
 ],
 "metadata": {
  "kernelspec": {
   "display_name": "Python 3",
   "language": "python",
   "name": "python3"
  },
  "language_info": {
   "codemirror_mode": {
    "name": "ipython",
    "version": 3
   },
   "file_extension": ".py",
   "mimetype": "text/x-python",
   "name": "python",
   "nbconvert_exporter": "python",
   "pygments_lexer": "ipython3",
   "version": "3.7.1"
  }
 },
 "nbformat": 4,
 "nbformat_minor": 2
}
